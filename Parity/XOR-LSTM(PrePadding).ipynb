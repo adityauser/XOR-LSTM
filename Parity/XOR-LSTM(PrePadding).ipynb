{
 "cells": [
  {
   "cell_type": "code",
   "execution_count": 1,
   "metadata": {},
   "outputs": [
    {
     "name": "stderr",
     "output_type": "stream",
     "text": [
      "Using TensorFlow backend.\n"
     ]
    }
   ],
   "source": [
    "import tensorflow as tf\n",
    "import numpy as np\n",
    "from keras.models import Sequential\n",
    "from keras.layers import LSTM, Dense\n",
    "import copy"
   ]
  },
  {
   "cell_type": "code",
   "execution_count": 2,
   "metadata": {},
   "outputs": [],
   "source": [
    "def generateData(SeqCount=100000, randLenght=False, randomness = False, padFront=True):\n",
    "    train_y = np.zeros((SeqCount, 2))\n",
    "    if randLenght:\n",
    "        sedList = []\n",
    "        for i in range(SeqCount):\n",
    "            seq = np.random.choice(2, [1, 1+int(np.floor(np.random.rand()*50))])[0]\n",
    "            train_y[i][sum(seq)%2] = 1\n",
    "            randomness=0\n",
    "            seq = randomness+np.pad(seq, (int(padFront)*(50-len(seq)), int(not padFront)*(50-len(seq))), 'constant', constant_values=(0, 0))\n",
    "            sedList.append(seq)\n",
    "        \n",
    "        return np.asarray(sedList).reshape((SeqCount,50,1)), train_y\n",
    "    else:\n",
    "        seqs = np.random.choice(2, [SeqCount, 50])\n",
    "        for i,seq in enumerate(seqs):\n",
    "            train_y[i][sum(seq)%2] = 1\n",
    "        return seqs.reshape((SeqCount,50,1)), train_y"
   ]
  },
  {
   "cell_type": "code",
   "execution_count": 3,
   "metadata": {},
   "outputs": [
    {
     "name": "stdout",
     "output_type": "stream",
     "text": [
      "WARNING:tensorflow:From /home/aditya/anaconda3/lib/python3.7/site-packages/tensorflow/python/framework/op_def_library.py:263: colocate_with (from tensorflow.python.framework.ops) is deprecated and will be removed in a future version.\n",
      "Instructions for updating:\n",
      "Colocations handled automatically by placer.\n"
     ]
    }
   ],
   "source": [
    "model = Sequential() \n",
    "batch_size, timesteps, data_dim = None, None, 1\n",
    "model.add(LSTM(10, return_sequences=False, stateful=False,\n",
    "               batch_input_shape=(batch_size, timesteps, data_dim)))\n",
    "model.add(Dense(2, activation='sigmoid'))\n",
    "model.compile(loss='binary_crossentropy',\n",
    "              optimizer='adam',\n",
    "              metrics=['accuracy'])"
   ]
  },
  {
   "cell_type": "code",
   "execution_count": 4,
   "metadata": {},
   "outputs": [
    {
     "name": "stdout",
     "output_type": "stream",
     "text": [
      "WARNING:tensorflow:From /home/aditya/anaconda3/lib/python3.7/site-packages/tensorflow/python/ops/math_ops.py:3066: to_int32 (from tensorflow.python.ops.math_ops) is deprecated and will be removed in a future version.\n",
      "Instructions for updating:\n",
      "Use tf.cast instead.\n",
      "Epoch 1/10\n",
      "100000/100000 [==============================] - 91s 909us/step - loss: 0.6932 - acc: 0.5027\n",
      "Epoch 2/10\n",
      "100000/100000 [==============================] - 91s 905us/step - loss: 0.6928 - acc: 0.5007\n",
      "Epoch 3/10\n",
      "100000/100000 [==============================] - 97s 973us/step - loss: 0.6868 - acc: 0.5113\n",
      "Epoch 4/10\n",
      "100000/100000 [==============================] - 84s 840us/step - loss: 0.2406 - acc: 0.8891\n",
      "Epoch 5/10\n",
      "100000/100000 [==============================] - 85s 853us/step - loss: 0.0215 - acc: 0.9973\n",
      "Epoch 6/10\n",
      "100000/100000 [==============================] - 84s 844us/step - loss: 0.0250 - acc: 0.9962\n",
      "Epoch 7/10\n",
      "100000/100000 [==============================] - 86s 862us/step - loss: 0.0233 - acc: 0.9962\n",
      "Epoch 8/10\n",
      "100000/100000 [==============================] - 86s 858us/step - loss: 0.0069 - acc: 0.9992\n",
      "Epoch 9/10\n",
      "100000/100000 [==============================] - 83s 835us/step - loss: 0.0022 - acc: 0.9998\n",
      "Epoch 10/10\n",
      "100000/100000 [==============================] - 84s 841us/step - loss: 3.5031e-04 - acc: 1.0000\n"
     ]
    },
    {
     "data": {
      "text/plain": [
       "<keras.callbacks.History at 0x7ff4a5ff6390>"
      ]
     },
     "execution_count": 4,
     "metadata": {},
     "output_type": "execute_result"
    }
   ],
   "source": [
    "model1 = copy.copy(model)\n",
    "train_x, train_y = generateData(SeqCount=100000, randLenght=True, randomness = False, padFront=True)\n",
    "model1.fit(train_x, train_y, batch_size=64, epochs=10)"
   ]
  },
  {
   "cell_type": "code",
   "execution_count": 5,
   "metadata": {},
   "outputs": [
    {
     "name": "stdout",
     "output_type": "stream",
     "text": [
      "Epoch 1/10\n",
      "100000/100000 [==============================] - 85s 853us/step - loss: 0.6932 - acc: 0.4976\n",
      "Epoch 2/10\n",
      "100000/100000 [==============================] - 84s 836us/step - loss: 0.6932 - acc: 0.4981\n",
      "Epoch 3/10\n",
      "100000/100000 [==============================] - 84s 842us/step - loss: 0.6932 - acc: 0.4966\n",
      "Epoch 4/10\n",
      "100000/100000 [==============================] - 84s 841us/step - loss: 0.6932 - acc: 0.5004\n",
      "Epoch 5/10\n",
      "100000/100000 [==============================] - 84s 841us/step - loss: 0.6932 - acc: 0.4983\n",
      "Epoch 6/10\n",
      "100000/100000 [==============================] - 83s 835us/step - loss: 0.6932 - acc: 0.5003\n",
      "Epoch 7/10\n",
      "100000/100000 [==============================] - 84s 841us/step - loss: 0.6932 - acc: 0.4983\n",
      "Epoch 8/10\n",
      "100000/100000 [==============================] - 86s 859us/step - loss: 0.6932 - acc: 0.5004\n",
      "Epoch 9/10\n",
      "100000/100000 [==============================] - 85s 851us/step - loss: 0.6932 - acc: 0.5001\n",
      "Epoch 10/10\n",
      "100000/100000 [==============================] - 85s 853us/step - loss: 0.6932 - acc: 0.5016\n"
     ]
    },
    {
     "data": {
      "text/plain": [
       "<keras.callbacks.History at 0x7ff4a6ef2940>"
      ]
     },
     "execution_count": 5,
     "metadata": {},
     "output_type": "execute_result"
    }
   ],
   "source": [
    "model2 = copy.copy(model)\n",
    "train_x, train_y = generateData(SeqCount=100000, randLenght=True, randomness = False, padFront=False)\n",
    "model2.fit(train_x, train_y, batch_size=64, epochs=10)"
   ]
  }
 ],
 "metadata": {
  "kernelspec": {
   "display_name": "Python 3",
   "language": "python",
   "name": "python3"
  },
  "language_info": {
   "codemirror_mode": {
    "name": "ipython",
    "version": 3
   },
   "file_extension": ".py",
   "mimetype": "text/x-python",
   "name": "python",
   "nbconvert_exporter": "python",
   "pygments_lexer": "ipython3",
   "version": "3.7.3"
  }
 },
 "nbformat": 4,
 "nbformat_minor": 2
}
